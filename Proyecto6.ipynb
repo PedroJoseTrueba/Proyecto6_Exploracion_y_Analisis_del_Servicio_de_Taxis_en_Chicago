{
 "cells": [
  {
   "cell_type": "markdown",
   "metadata": {},
   "source": [
    "# Exploración y Análisis del Servicio de Taxis en Chicago: Impacto de las Condiciones Climáticas y Ubicaciones"
   ]
  },
  {
   "cell_type": "markdown",
   "metadata": {},
   "source": [
    "## Introducción\n",
    "\n",
    "Este proyecto de análisis de datos se centra en explorar y comprender el comportamiento de los servicios de taxi en Chicago, así como su relación con las condiciones climáticas y las ubicaciones de recogida y entrega de pasajeros. Utilizando conjuntos de datos proporcionados, se llevará a cabo un análisis exhaustivo que abarca desde la cantidad de viajes realizados por cada empresa de taxis en fechas específicas hasta la duración promedio de los viajes en diferentes condiciones climáticas y ubicaciones. A través de pasos cuidadosamente diseñados, se realizará una exploración detallada de los datos, se identificarán patrones y tendencias significativas, se probarán hipótesis relevantes y se sacarán conclusiones fundamentadas que proporcionen información valiosa para la toma de decisiones en el sector de transporte en Chicago."
   ]
  },
  {
   "cell_type": "markdown",
   "metadata": {},
   "source": [
    "## Diccionario de datos\n",
    "\n",
    "El siguiente diccionario proporciona una descripción concisa de los datos contenidos en los archivos CSV /datasets/project_sql_result_01.csv , /datasets/project_sql_result_04.csv y/datasets/project_sql_result_07.csv . Estos conjuntos de datos contienen información relevante sobre las empresas de taxis, los destinos de los viajes en Chicago durante noviembre de 2017 y datos sobre viajes desde el Loop hasta el Aeropuerto Internacional O'Hare.\n",
    "\n",
    "**`/datasets/company_trips.csv:`** Contiene los siguientes datos:\n",
    "- `'company_name:'` El nombre de la empresa de taxis.\n",
    "- `'trips_amount:'` El número de viajes realizados por cada compañía de taxis el 15 y 16 de noviembre de 2017.\n",
    "\n",
    "**`/datasets/trips_destinations.csv:`** Contiene los siguientes datos:\n",
    "- `'dropoff_location_name:'` Los barrios de Chicago donde finalizaron los viajes.\n",
    "- `'average_trips:'` El promedio de viajes que terminaron en cada barrio durante noviembre de 2017.\n",
    "\n",
    "**`/datasets/loop_to_ohare_trips.csv:`** Contiene datos sobre viajes desde el Loop hasta el Aeropuerto Internacional O'Hare. Estos son los valores de campo de la tabla:\n",
    "\n",
    "- `start_ts:`fecha y hora de la recogida. \n",
    "- `weather_conditions:` condiciones climáticas en el momento en el que comenzó el viaje.\n",
    "- `duration_seconds:` duración del viaje en segundos."
   ]
  },
  {
   "cell_type": "markdown",
   "metadata": {},
   "source": [
    "## Análisis exploratorio de datos"
   ]
  },
  {
   "cell_type": "markdown",
   "metadata": {},
   "source": [
    "###  Análisis"
   ]
  },
  {
   "cell_type": "markdown",
   "metadata": {},
   "source": [
    "1. Ahora haremos la importación de los archivos. Utilizaremos  Pandas para cargar los archivos CSV /datasets/project_sql_result_01.csv y /datasets/project_sql_result_04.csv en dataframes."
   ]
  },
  {
   "cell_type": "code",
   "execution_count": 1,
   "metadata": {},
   "outputs": [],
   "source": [
    "# importar librerías\n",
    "import pandas as pd\n",
    "\n",
    "import seaborn as sns\n",
    "\n",
    "import matplotlib.pyplot as plt\n",
    "\n",
    "from scipy.stats import levene, ttest_ind\n"
   ]
  },
  {
   "cell_type": "code",
   "execution_count": 2,
   "metadata": {},
   "outputs": [],
   "source": [
    "# leer conjuntos de datos en los DataFrames\n",
    "\n",
    "company_trips = pd.read_csv(\"./datasets/company_trips.csv\")\n",
    "\n",
    "trips_destinations = pd.read_csv(\"./datasets/trips_destinations.csv\")\n",
    "\n",
    "loop_to_ohare_trips = pd.read_csv('./datasets/loop_to_ohare_trips.csv')\n"
   ]
  },
  {
   "cell_type": "markdown",
   "metadata": {},
   "source": [
    "2. Ahora estudiaremos los datos. Utilizaremos funciones como head(), info() y describe() para explorar los dataframes y comprender la estructura y el contenido de los datos y nos aseguraremos de que los tipos de datos sean correctos. Verificaremos que las columnas estén en los tipos de datos adecuados para el análisis. "
   ]
  },
  {
   "cell_type": "markdown",
   "metadata": {},
   "source": [
    "`company_trips: `"
   ]
  },
  {
   "cell_type": "code",
   "execution_count": 3,
   "metadata": {},
   "outputs": [
    {
     "data": {
      "text/html": [
       "<div>\n",
       "<style scoped>\n",
       "    .dataframe tbody tr th:only-of-type {\n",
       "        vertical-align: middle;\n",
       "    }\n",
       "\n",
       "    .dataframe tbody tr th {\n",
       "        vertical-align: top;\n",
       "    }\n",
       "\n",
       "    .dataframe thead th {\n",
       "        text-align: right;\n",
       "    }\n",
       "</style>\n",
       "<table border=\"1\" class=\"dataframe\">\n",
       "  <thead>\n",
       "    <tr style=\"text-align: right;\">\n",
       "      <th></th>\n",
       "      <th>company_name</th>\n",
       "      <th>trips_amount</th>\n",
       "    </tr>\n",
       "  </thead>\n",
       "  <tbody>\n",
       "    <tr>\n",
       "      <th>0</th>\n",
       "      <td>Flash Cab</td>\n",
       "      <td>19558</td>\n",
       "    </tr>\n",
       "    <tr>\n",
       "      <th>1</th>\n",
       "      <td>Taxi Affiliation Services</td>\n",
       "      <td>11422</td>\n",
       "    </tr>\n",
       "    <tr>\n",
       "      <th>2</th>\n",
       "      <td>Medallion Leasing</td>\n",
       "      <td>10367</td>\n",
       "    </tr>\n",
       "    <tr>\n",
       "      <th>3</th>\n",
       "      <td>Yellow Cab</td>\n",
       "      <td>9888</td>\n",
       "    </tr>\n",
       "    <tr>\n",
       "      <th>4</th>\n",
       "      <td>Taxi Affiliation Service Yellow</td>\n",
       "      <td>9299</td>\n",
       "    </tr>\n",
       "  </tbody>\n",
       "</table>\n",
       "</div>"
      ],
      "text/plain": [
       "                      company_name  trips_amount\n",
       "0                        Flash Cab         19558\n",
       "1        Taxi Affiliation Services         11422\n",
       "2                Medallion Leasing         10367\n",
       "3                       Yellow Cab          9888\n",
       "4  Taxi Affiliation Service Yellow          9299"
      ]
     },
     "execution_count": 3,
     "metadata": {},
     "output_type": "execute_result"
    }
   ],
   "source": [
    "# Mostrar las primeras filas de company_trips\n",
    "company_trips.head()"
   ]
  },
  {
   "cell_type": "code",
   "execution_count": 4,
   "metadata": {},
   "outputs": [
    {
     "data": {
      "text/plain": [
       "np.int64(0)"
      ]
     },
     "execution_count": 4,
     "metadata": {},
     "output_type": "execute_result"
    }
   ],
   "source": [
    "# Verificar duplicados en el DataFrame company_trips\n",
    "company_trips.duplicated().sum()"
   ]
  },
  {
   "cell_type": "code",
   "execution_count": 5,
   "metadata": {},
   "outputs": [
    {
     "name": "stdout",
     "output_type": "stream",
     "text": [
      "<class 'pandas.core.frame.DataFrame'>\n",
      "RangeIndex: 64 entries, 0 to 63\n",
      "Data columns (total 2 columns):\n",
      " #   Column        Non-Null Count  Dtype \n",
      "---  ------        --------------  ----- \n",
      " 0   company_name  64 non-null     object\n",
      " 1   trips_amount  64 non-null     int64 \n",
      "dtypes: int64(1), object(1)\n",
      "memory usage: 1.1+ KB\n"
     ]
    }
   ],
   "source": [
    "# Mostrar los detalles de la tabla company_trips\n",
    "company_trips.info()"
   ]
  },
  {
   "cell_type": "code",
   "execution_count": 6,
   "metadata": {},
   "outputs": [
    {
     "data": {
      "text/html": [
       "<div>\n",
       "<style scoped>\n",
       "    .dataframe tbody tr th:only-of-type {\n",
       "        vertical-align: middle;\n",
       "    }\n",
       "\n",
       "    .dataframe tbody tr th {\n",
       "        vertical-align: top;\n",
       "    }\n",
       "\n",
       "    .dataframe thead th {\n",
       "        text-align: right;\n",
       "    }\n",
       "</style>\n",
       "<table border=\"1\" class=\"dataframe\">\n",
       "  <thead>\n",
       "    <tr style=\"text-align: right;\">\n",
       "      <th></th>\n",
       "      <th>trips_amount</th>\n",
       "    </tr>\n",
       "  </thead>\n",
       "  <tbody>\n",
       "    <tr>\n",
       "      <th>count</th>\n",
       "      <td>64.000000</td>\n",
       "    </tr>\n",
       "    <tr>\n",
       "      <th>mean</th>\n",
       "      <td>2145.484375</td>\n",
       "    </tr>\n",
       "    <tr>\n",
       "      <th>std</th>\n",
       "      <td>3812.310186</td>\n",
       "    </tr>\n",
       "    <tr>\n",
       "      <th>min</th>\n",
       "      <td>2.000000</td>\n",
       "    </tr>\n",
       "    <tr>\n",
       "      <th>25%</th>\n",
       "      <td>20.750000</td>\n",
       "    </tr>\n",
       "    <tr>\n",
       "      <th>50%</th>\n",
       "      <td>178.500000</td>\n",
       "    </tr>\n",
       "    <tr>\n",
       "      <th>75%</th>\n",
       "      <td>2106.500000</td>\n",
       "    </tr>\n",
       "    <tr>\n",
       "      <th>max</th>\n",
       "      <td>19558.000000</td>\n",
       "    </tr>\n",
       "  </tbody>\n",
       "</table>\n",
       "</div>"
      ],
      "text/plain": [
       "       trips_amount\n",
       "count     64.000000\n",
       "mean    2145.484375\n",
       "std     3812.310186\n",
       "min        2.000000\n",
       "25%       20.750000\n",
       "50%      178.500000\n",
       "75%     2106.500000\n",
       "max    19558.000000"
      ]
     },
     "execution_count": 6,
     "metadata": {},
     "output_type": "execute_result"
    }
   ],
   "source": [
    "# Generar un resumen estadístico del DataFrame company_trips\n",
    "company_trips.describe()"
   ]
  },
  {
   "cell_type": "markdown",
   "metadata": {},
   "source": [
    "`trip_destinations:`"
   ]
  },
  {
   "cell_type": "code",
   "execution_count": 7,
   "metadata": {},
   "outputs": [
    {
     "data": {
      "text/html": [
       "<div>\n",
       "<style scoped>\n",
       "    .dataframe tbody tr th:only-of-type {\n",
       "        vertical-align: middle;\n",
       "    }\n",
       "\n",
       "    .dataframe tbody tr th {\n",
       "        vertical-align: top;\n",
       "    }\n",
       "\n",
       "    .dataframe thead th {\n",
       "        text-align: right;\n",
       "    }\n",
       "</style>\n",
       "<table border=\"1\" class=\"dataframe\">\n",
       "  <thead>\n",
       "    <tr style=\"text-align: right;\">\n",
       "      <th></th>\n",
       "      <th>dropoff_location_name</th>\n",
       "      <th>average_trips</th>\n",
       "    </tr>\n",
       "  </thead>\n",
       "  <tbody>\n",
       "    <tr>\n",
       "      <th>0</th>\n",
       "      <td>Loop</td>\n",
       "      <td>10727.466667</td>\n",
       "    </tr>\n",
       "    <tr>\n",
       "      <th>1</th>\n",
       "      <td>River North</td>\n",
       "      <td>9523.666667</td>\n",
       "    </tr>\n",
       "    <tr>\n",
       "      <th>2</th>\n",
       "      <td>Streeterville</td>\n",
       "      <td>6664.666667</td>\n",
       "    </tr>\n",
       "    <tr>\n",
       "      <th>3</th>\n",
       "      <td>West Loop</td>\n",
       "      <td>5163.666667</td>\n",
       "    </tr>\n",
       "    <tr>\n",
       "      <th>4</th>\n",
       "      <td>O'Hare</td>\n",
       "      <td>2546.900000</td>\n",
       "    </tr>\n",
       "    <tr>\n",
       "      <th>5</th>\n",
       "      <td>Lake View</td>\n",
       "      <td>2420.966667</td>\n",
       "    </tr>\n",
       "    <tr>\n",
       "      <th>6</th>\n",
       "      <td>Grant Park</td>\n",
       "      <td>2068.533333</td>\n",
       "    </tr>\n",
       "    <tr>\n",
       "      <th>7</th>\n",
       "      <td>Museum Campus</td>\n",
       "      <td>1510.000000</td>\n",
       "    </tr>\n",
       "    <tr>\n",
       "      <th>8</th>\n",
       "      <td>Gold Coast</td>\n",
       "      <td>1364.233333</td>\n",
       "    </tr>\n",
       "    <tr>\n",
       "      <th>9</th>\n",
       "      <td>Sheffield &amp; DePaul</td>\n",
       "      <td>1259.766667</td>\n",
       "    </tr>\n",
       "  </tbody>\n",
       "</table>\n",
       "</div>"
      ],
      "text/plain": [
       "  dropoff_location_name  average_trips\n",
       "0                  Loop   10727.466667\n",
       "1           River North    9523.666667\n",
       "2         Streeterville    6664.666667\n",
       "3             West Loop    5163.666667\n",
       "4                O'Hare    2546.900000\n",
       "5             Lake View    2420.966667\n",
       "6            Grant Park    2068.533333\n",
       "7         Museum Campus    1510.000000\n",
       "8            Gold Coast    1364.233333\n",
       "9    Sheffield & DePaul    1259.766667"
      ]
     },
     "execution_count": 7,
     "metadata": {},
     "output_type": "execute_result"
    }
   ],
   "source": [
    "# Mostrar las primeras filas de trips_destinations\n",
    "trips_destinations.head(10)"
   ]
  },
  {
   "cell_type": "code",
   "execution_count": 8,
   "metadata": {},
   "outputs": [
    {
     "data": {
      "text/plain": [
       "np.int64(0)"
      ]
     },
     "execution_count": 8,
     "metadata": {},
     "output_type": "execute_result"
    }
   ],
   "source": [
    "# Verificar duplicados en el DataFrame trips_destinations\n",
    "trips_destinations.duplicated().sum()"
   ]
  },
  {
   "cell_type": "code",
   "execution_count": 9,
   "metadata": {},
   "outputs": [
    {
     "name": "stdout",
     "output_type": "stream",
     "text": [
      "<class 'pandas.core.frame.DataFrame'>\n",
      "RangeIndex: 94 entries, 0 to 93\n",
      "Data columns (total 2 columns):\n",
      " #   Column                 Non-Null Count  Dtype  \n",
      "---  ------                 --------------  -----  \n",
      " 0   dropoff_location_name  94 non-null     object \n",
      " 1   average_trips          94 non-null     float64\n",
      "dtypes: float64(1), object(1)\n",
      "memory usage: 1.6+ KB\n"
     ]
    }
   ],
   "source": [
    "# Mostrar los detalles de la tabla trips_destinations\n",
    "trips_destinations.info()"
   ]
  },
  {
   "cell_type": "code",
   "execution_count": 10,
   "metadata": {},
   "outputs": [
    {
     "data": {
      "text/html": [
       "<div>\n",
       "<style scoped>\n",
       "    .dataframe tbody tr th:only-of-type {\n",
       "        vertical-align: middle;\n",
       "    }\n",
       "\n",
       "    .dataframe tbody tr th {\n",
       "        vertical-align: top;\n",
       "    }\n",
       "\n",
       "    .dataframe thead th {\n",
       "        text-align: right;\n",
       "    }\n",
       "</style>\n",
       "<table border=\"1\" class=\"dataframe\">\n",
       "  <thead>\n",
       "    <tr style=\"text-align: right;\">\n",
       "      <th></th>\n",
       "      <th>average_trips</th>\n",
       "    </tr>\n",
       "  </thead>\n",
       "  <tbody>\n",
       "    <tr>\n",
       "      <th>count</th>\n",
       "      <td>94.000000</td>\n",
       "    </tr>\n",
       "    <tr>\n",
       "      <th>mean</th>\n",
       "      <td>599.953728</td>\n",
       "    </tr>\n",
       "    <tr>\n",
       "      <th>std</th>\n",
       "      <td>1714.591098</td>\n",
       "    </tr>\n",
       "    <tr>\n",
       "      <th>min</th>\n",
       "      <td>1.800000</td>\n",
       "    </tr>\n",
       "    <tr>\n",
       "      <th>25%</th>\n",
       "      <td>14.266667</td>\n",
       "    </tr>\n",
       "    <tr>\n",
       "      <th>50%</th>\n",
       "      <td>52.016667</td>\n",
       "    </tr>\n",
       "    <tr>\n",
       "      <th>75%</th>\n",
       "      <td>298.858333</td>\n",
       "    </tr>\n",
       "    <tr>\n",
       "      <th>max</th>\n",
       "      <td>10727.466667</td>\n",
       "    </tr>\n",
       "  </tbody>\n",
       "</table>\n",
       "</div>"
      ],
      "text/plain": [
       "       average_trips\n",
       "count      94.000000\n",
       "mean      599.953728\n",
       "std      1714.591098\n",
       "min         1.800000\n",
       "25%        14.266667\n",
       "50%        52.016667\n",
       "75%       298.858333\n",
       "max     10727.466667"
      ]
     },
     "execution_count": 10,
     "metadata": {},
     "output_type": "execute_result"
    }
   ],
   "source": [
    "# Generar un resumen estadístico del DataFrame trips_destinations\n",
    "trips_destinations.describe()"
   ]
  },
  {
   "cell_type": "markdown",
   "metadata": {},
   "source": [
    "4. Ahora identificaremos los 10 principales barrios en términos de finalización del recorrido. "
   ]
  },
  {
   "cell_type": "code",
   "execution_count": 11,
   "metadata": {},
   "outputs": [
    {
     "data": {
      "text/html": [
       "<div>\n",
       "<style scoped>\n",
       "    .dataframe tbody tr th:only-of-type {\n",
       "        vertical-align: middle;\n",
       "    }\n",
       "\n",
       "    .dataframe tbody tr th {\n",
       "        vertical-align: top;\n",
       "    }\n",
       "\n",
       "    .dataframe thead th {\n",
       "        text-align: right;\n",
       "    }\n",
       "</style>\n",
       "<table border=\"1\" class=\"dataframe\">\n",
       "  <thead>\n",
       "    <tr style=\"text-align: right;\">\n",
       "      <th></th>\n",
       "      <th>dropoff_location_name</th>\n",
       "      <th>average_trips</th>\n",
       "    </tr>\n",
       "  </thead>\n",
       "  <tbody>\n",
       "    <tr>\n",
       "      <th>0</th>\n",
       "      <td>Loop</td>\n",
       "      <td>10727.466667</td>\n",
       "    </tr>\n",
       "    <tr>\n",
       "      <th>1</th>\n",
       "      <td>River North</td>\n",
       "      <td>9523.666667</td>\n",
       "    </tr>\n",
       "    <tr>\n",
       "      <th>2</th>\n",
       "      <td>Streeterville</td>\n",
       "      <td>6664.666667</td>\n",
       "    </tr>\n",
       "    <tr>\n",
       "      <th>3</th>\n",
       "      <td>West Loop</td>\n",
       "      <td>5163.666667</td>\n",
       "    </tr>\n",
       "    <tr>\n",
       "      <th>4</th>\n",
       "      <td>O'Hare</td>\n",
       "      <td>2546.900000</td>\n",
       "    </tr>\n",
       "    <tr>\n",
       "      <th>5</th>\n",
       "      <td>Lake View</td>\n",
       "      <td>2420.966667</td>\n",
       "    </tr>\n",
       "    <tr>\n",
       "      <th>6</th>\n",
       "      <td>Grant Park</td>\n",
       "      <td>2068.533333</td>\n",
       "    </tr>\n",
       "    <tr>\n",
       "      <th>7</th>\n",
       "      <td>Museum Campus</td>\n",
       "      <td>1510.000000</td>\n",
       "    </tr>\n",
       "    <tr>\n",
       "      <th>8</th>\n",
       "      <td>Gold Coast</td>\n",
       "      <td>1364.233333</td>\n",
       "    </tr>\n",
       "    <tr>\n",
       "      <th>9</th>\n",
       "      <td>Sheffield &amp; DePaul</td>\n",
       "      <td>1259.766667</td>\n",
       "    </tr>\n",
       "  </tbody>\n",
       "</table>\n",
       "</div>"
      ],
      "text/plain": [
       "  dropoff_location_name  average_trips\n",
       "0                  Loop   10727.466667\n",
       "1           River North    9523.666667\n",
       "2         Streeterville    6664.666667\n",
       "3             West Loop    5163.666667\n",
       "4                O'Hare    2546.900000\n",
       "5             Lake View    2420.966667\n",
       "6            Grant Park    2068.533333\n",
       "7         Museum Campus    1510.000000\n",
       "8            Gold Coast    1364.233333\n",
       "9    Sheffield & DePaul    1259.766667"
      ]
     },
     "execution_count": 11,
     "metadata": {},
     "output_type": "execute_result"
    }
   ],
   "source": [
    "# Ordenar el DataFrame por average_trips en orden descendente y mostrar los 10 primeros\n",
    "trips_destinations.sort_values(by=trips_destinations.columns[1], ascending=False).head(10)"
   ]
  },
  {
   "cell_type": "markdown",
   "metadata": {},
   "source": [
    "`loop_to_ohare_trips`:"
   ]
  },
  {
   "cell_type": "code",
   "execution_count": 12,
   "metadata": {},
   "outputs": [
    {
     "data": {
      "text/html": [
       "<div>\n",
       "<style scoped>\n",
       "    .dataframe tbody tr th:only-of-type {\n",
       "        vertical-align: middle;\n",
       "    }\n",
       "\n",
       "    .dataframe tbody tr th {\n",
       "        vertical-align: top;\n",
       "    }\n",
       "\n",
       "    .dataframe thead th {\n",
       "        text-align: right;\n",
       "    }\n",
       "</style>\n",
       "<table border=\"1\" class=\"dataframe\">\n",
       "  <thead>\n",
       "    <tr style=\"text-align: right;\">\n",
       "      <th></th>\n",
       "      <th>start_ts</th>\n",
       "      <th>weather_conditions</th>\n",
       "      <th>duration_seconds</th>\n",
       "    </tr>\n",
       "  </thead>\n",
       "  <tbody>\n",
       "    <tr>\n",
       "      <th>0</th>\n",
       "      <td>2017-11-25 16:00:00</td>\n",
       "      <td>Good</td>\n",
       "      <td>2410.0</td>\n",
       "    </tr>\n",
       "    <tr>\n",
       "      <th>1</th>\n",
       "      <td>2017-11-25 14:00:00</td>\n",
       "      <td>Good</td>\n",
       "      <td>1920.0</td>\n",
       "    </tr>\n",
       "    <tr>\n",
       "      <th>2</th>\n",
       "      <td>2017-11-25 12:00:00</td>\n",
       "      <td>Good</td>\n",
       "      <td>1543.0</td>\n",
       "    </tr>\n",
       "    <tr>\n",
       "      <th>3</th>\n",
       "      <td>2017-11-04 10:00:00</td>\n",
       "      <td>Good</td>\n",
       "      <td>2512.0</td>\n",
       "    </tr>\n",
       "    <tr>\n",
       "      <th>4</th>\n",
       "      <td>2017-11-11 07:00:00</td>\n",
       "      <td>Good</td>\n",
       "      <td>1440.0</td>\n",
       "    </tr>\n",
       "  </tbody>\n",
       "</table>\n",
       "</div>"
      ],
      "text/plain": [
       "              start_ts weather_conditions  duration_seconds\n",
       "0  2017-11-25 16:00:00               Good            2410.0\n",
       "1  2017-11-25 14:00:00               Good            1920.0\n",
       "2  2017-11-25 12:00:00               Good            1543.0\n",
       "3  2017-11-04 10:00:00               Good            2512.0\n",
       "4  2017-11-11 07:00:00               Good            1440.0"
      ]
     },
     "execution_count": 12,
     "metadata": {},
     "output_type": "execute_result"
    }
   ],
   "source": [
    "# Mostrar las primeras filas de loop_to_ohare_trips\n",
    "loop_to_ohare_trips.head()"
   ]
  },
  {
   "cell_type": "code",
   "execution_count": 13,
   "metadata": {},
   "outputs": [],
   "source": [
    "#Cambiar start_ts a datetime\n",
    "loop_to_ohare_trips['start_ts'] = pd.to_datetime(loop_to_ohare_trips['start_ts'])"
   ]
  },
  {
   "cell_type": "code",
   "execution_count": 14,
   "metadata": {},
   "outputs": [
    {
     "data": {
      "text/plain": [
       "np.int64(197)"
      ]
     },
     "execution_count": 14,
     "metadata": {},
     "output_type": "execute_result"
    }
   ],
   "source": [
    "# Verificar duplicados en el DataFrame loop_to_ohare_trips\n",
    "loop_to_ohare_trips.duplicated().sum()"
   ]
  },
  {
   "cell_type": "code",
   "execution_count": 15,
   "metadata": {},
   "outputs": [
    {
     "data": {
      "text/plain": [
       "np.int64(0)"
      ]
     },
     "execution_count": 15,
     "metadata": {},
     "output_type": "execute_result"
    }
   ],
   "source": [
    "# Eliminar duplicados del DataFrame loop_to_ohare_trips\n",
    "loop_to_ohare_trips = loop_to_ohare_trips.drop_duplicates()\n",
    "\n",
    "# Verificar nuevamente duplicados en el DataFrame loop_to_ohare_trips\n",
    "loop_to_ohare_trips.duplicated().sum()"
   ]
  },
  {
   "cell_type": "code",
   "execution_count": 16,
   "metadata": {},
   "outputs": [
    {
     "name": "stdout",
     "output_type": "stream",
     "text": [
      "<class 'pandas.core.frame.DataFrame'>\n",
      "Index: 871 entries, 0 to 1067\n",
      "Data columns (total 3 columns):\n",
      " #   Column              Non-Null Count  Dtype         \n",
      "---  ------              --------------  -----         \n",
      " 0   start_ts            871 non-null    datetime64[ns]\n",
      " 1   weather_conditions  871 non-null    object        \n",
      " 2   duration_seconds    871 non-null    float64       \n",
      "dtypes: datetime64[ns](1), float64(1), object(1)\n",
      "memory usage: 27.2+ KB\n"
     ]
    }
   ],
   "source": [
    "# Mostrar los detalles de la tabla loop_to_ohare_trips\n",
    "loop_to_ohare_trips.info()"
   ]
  },
  {
   "cell_type": "code",
   "execution_count": 17,
   "metadata": {},
   "outputs": [
    {
     "data": {
      "text/html": [
       "<div>\n",
       "<style scoped>\n",
       "    .dataframe tbody tr th:only-of-type {\n",
       "        vertical-align: middle;\n",
       "    }\n",
       "\n",
       "    .dataframe tbody tr th {\n",
       "        vertical-align: top;\n",
       "    }\n",
       "\n",
       "    .dataframe thead th {\n",
       "        text-align: right;\n",
       "    }\n",
       "</style>\n",
       "<table border=\"1\" class=\"dataframe\">\n",
       "  <thead>\n",
       "    <tr style=\"text-align: right;\">\n",
       "      <th></th>\n",
       "      <th>start_ts</th>\n",
       "      <th>duration_seconds</th>\n",
       "    </tr>\n",
       "  </thead>\n",
       "  <tbody>\n",
       "    <tr>\n",
       "      <th>count</th>\n",
       "      <td>871</td>\n",
       "      <td>871.000000</td>\n",
       "    </tr>\n",
       "    <tr>\n",
       "      <th>mean</th>\n",
       "      <td>2017-11-11 20:10:53.042479872</td>\n",
       "      <td>2096.308840</td>\n",
       "    </tr>\n",
       "    <tr>\n",
       "      <th>min</th>\n",
       "      <td>2017-11-04 00:00:00</td>\n",
       "      <td>0.000000</td>\n",
       "    </tr>\n",
       "    <tr>\n",
       "      <th>25%</th>\n",
       "      <td>2017-11-04 15:00:00</td>\n",
       "      <td>1440.000000</td>\n",
       "    </tr>\n",
       "    <tr>\n",
       "      <th>50%</th>\n",
       "      <td>2017-11-11 10:00:00</td>\n",
       "      <td>2015.000000</td>\n",
       "    </tr>\n",
       "    <tr>\n",
       "      <th>75%</th>\n",
       "      <td>2017-11-18 07:00:00</td>\n",
       "      <td>2584.000000</td>\n",
       "    </tr>\n",
       "    <tr>\n",
       "      <th>max</th>\n",
       "      <td>2017-11-25 23:00:00</td>\n",
       "      <td>7440.000000</td>\n",
       "    </tr>\n",
       "    <tr>\n",
       "      <th>std</th>\n",
       "      <td>NaN</td>\n",
       "      <td>782.274717</td>\n",
       "    </tr>\n",
       "  </tbody>\n",
       "</table>\n",
       "</div>"
      ],
      "text/plain": [
       "                            start_ts  duration_seconds\n",
       "count                            871        871.000000\n",
       "mean   2017-11-11 20:10:53.042479872       2096.308840\n",
       "min              2017-11-04 00:00:00          0.000000\n",
       "25%              2017-11-04 15:00:00       1440.000000\n",
       "50%              2017-11-11 10:00:00       2015.000000\n",
       "75%              2017-11-18 07:00:00       2584.000000\n",
       "max              2017-11-25 23:00:00       7440.000000\n",
       "std                              NaN        782.274717"
      ]
     },
     "execution_count": 17,
     "metadata": {},
     "output_type": "execute_result"
    }
   ],
   "source": [
    "# Generar un resumen estadístico del DataFrame loop_to_ohare_trips\n",
    "loop_to_ohare_trips.describe()"
   ]
  },
  {
   "cell_type": "markdown",
   "metadata": {},
   "source": [
    "**Comentario**\n",
    "\n",
    "Todo parece estar en orden con las tres tablas. Las columnas y tipos de datos parecen estar correctamente definidos, y no hay valores nulos en ninguna de las columnas. El único cambio realizado fue la conversión de las fechas de la columna 'start_ts' del DataFrame loop_to_ohare_trips al tipo datetime. En resumen, todo está bien con los DataFrames proporcionados."
   ]
  },
  {
   "cell_type": "markdown",
   "metadata": {},
   "source": [
    "5. Ahora haremos gráficos. Utilizaremos bibliotecas de visualización de datos como Matplotlib o Seaborn para crear gráficos que muestren la relación entre las empresas de taxis y el número de viajes, así como los 10 principales barrios por número de finalizaciones."
   ]
  },
  {
   "cell_type": "code",
   "execution_count": 18,
   "metadata": {},
   "outputs": [
    {
     "data": {
      "text/plain": [
       "Text(0, 0.5, 'Número de Viajes')"
      ]
     },
     "execution_count": 18,
     "metadata": {},
     "output_type": "execute_result"
    },
    {
     "data": {
      "image/png": "[encoded data removed]",
      "text/plain": [
       "<Figure size 1000x600 with 1 Axes>"
      ]
     },
     "metadata": {},
     "output_type": "display_data"
    }
   ],
   "source": [
    "# Crear un gráfico de barras con las 10 compañías con más viajes\n",
    "\n",
    "plt.figure(figsize=(10, 6))\n",
    "\n",
    "sns.barplot(x='company_name', y='trips_amount', data=company_trips.head(10))\n",
    "\n",
    "# Rotar las etiquetas del eje x para mayor legibilidad\n",
    "plt.xticks(rotation=90)\n",
    "\n",
    "# Agregar título y etiquetas a los ejes\n",
    "plt.title('Número de Viajes por Empresa de Taxis')\n",
    "plt.xlabel('Empresa de Taxis')\n",
    "plt.ylabel('Número de Viajes')"
   ]
  },
  {
   "cell_type": "markdown",
   "metadata": {},
   "source": [
    "El gráfico de barras muestra el número de viajes de las principales compañías de taxis. Flash Cab lidera con una considerable ventaja, seguido por Taxi Affiliation Services y Medallion Leasing. Esta brecha indica una clara dominación de Flash Cab en el mercado de taxis local."
   ]
  },
  {
   "cell_type": "code",
   "execution_count": 19,
   "metadata": {},
   "outputs": [
    {
     "data": {
      "text/plain": [
       "Text(0, 0.5, 'Promedio de viajes')"
      ]
     },
     "execution_count": 19,
     "metadata": {},
     "output_type": "execute_result"
    },
    {
     "data": {
      "image/png": "[encoded data removed]",
      "text/plain": [
       "<Figure size 1000x600 with 1 Axes>"
      ]
     },
     "metadata": {},
     "output_type": "display_data"
    }
   ],
   "source": [
    "# Crear un gráfico de barras con los 10 principales barrios por número de finalizaciones\n",
    "\n",
    "plt.figure(figsize=(10, 6))\n",
    "\n",
    "sns.barplot(x='dropoff_location_name', y='average_trips', data=trips_destinations.head(10))\n",
    "\n",
    "# Rotar las etiquetas del eje x para mayor legibilidad\n",
    "plt.xticks(rotation=90)\n",
    "\n",
    "# Agregar título y etiquetas a los ejes\n",
    "plt.title('Promedio de Viajes por Barrio')\n",
    "plt.xlabel('Barrio de destino')\n",
    "plt.ylabel('Promedio de viajes')\n"
   ]
  },
  {
   "cell_type": "markdown",
   "metadata": {},
   "source": [
    "El gráfico de barras muestra el promedio de viajes que finalizaron en los 10 principales barrios de Chicago en noviembre de 2017. En la parte superior de la lista se encuentra el barrio \"Loop\", con un promedio de aproximadamente 10,727 viajes, seguido de cerca por \"River North\" con alrededor de 9,524 viajes en promedio. Estos dos barrios tienen los promedios más altos de finalizaciones de viajes, lo que sugiere una alta demanda de servicios de taxi en esas áreas. Por otro lado, \"Sheffield & DePaul\" ocupa el décimo lugar con un promedio de aproximadamente 1,260 viajes, indicando una menor actividad de taxi en comparación con los otros barrios listados."
   ]
  },
  {
   "cell_type": "code",
   "execution_count": 20,
   "metadata": {},
   "outputs": [
    {
     "data": {
      "image/png": "[encoded data removed]",
      "text/plain": [
       "<Figure size 1000x600 with 1 Axes>"
      ]
     },
     "metadata": {},
     "output_type": "display_data"
    }
   ],
   "source": [
    "# Crear el histograma de viajes por compañia de taxis\n",
    "plt.figure(figsize=(10, 6))\n",
    "plt.hist(company_trips['trips_amount'], bins=20, color='skyblue', edgecolor='black')\n",
    "plt.title('Distribución del número de viajes por compañía de taxis')\n",
    "plt.xlabel('Número de Viajes')\n",
    "plt.ylabel('Frecuencia')\n",
    "plt.grid(True)"
   ]
  },
  {
   "cell_type": "markdown",
   "metadata": {},
   "source": [
    "**Forma de la distribución:** El histograma muestra una distribución sesgada hacia la izquierda, lo que significa que la mayor parte de las compañías de taxis tienen un número relativamente bajo de viajes. Esto se refleja en la mayor frecuencia de observaciones en el rango de 0 a 100 viajes, mientras que las frecuencias disminuyen a medida que aumenta el número de viajes.\n",
    "\n",
    "**Concentración de datos:** La mayoría de las compañías de taxis tienen un número de viajes que caen en el rango de 0 a 100, como se evidencia por la frecuencia más alta en este rango. Además, la frecuencia disminuye significativamente a medida que nos movemos hacia rangos de viajes más altos, con frecuencias inferiores a 5 en esos rangos."
   ]
  },
  {
   "cell_type": "code",
   "execution_count": 21,
   "metadata": {},
   "outputs": [
    {
     "data": {
      "image/png": "[encoded data removed]",
      "text/plain": [
       "<Figure size 1000x600 with 1 Axes>"
      ]
     },
     "metadata": {},
     "output_type": "display_data"
    }
   ],
   "source": [
    "# Crear el histograma de promedio de viajes por barrio\n",
    "plt.figure(figsize=(10, 6))\n",
    "plt.hist(trips_destinations['average_trips'], bins=20, color='lightgreen', edgecolor='black')\n",
    "plt.title('Distribución del promedio de viajes por barrio')\n",
    "plt.xlabel('Promedio de Viajes')\n",
    "plt.ylabel('Frecuencia')\n",
    "plt.grid(True)"
   ]
  },
  {
   "cell_type": "markdown",
   "metadata": {},
   "source": [
    "**Forma de la distribución:** El histograma muestra una distribución sesgada hacia la izquierda, ya que la mayor frecuencia de observaciones se encuentra en el rango de 0 a 500 en el eje x. Esto indica que la mayoría de los barrios tienen un promedio de viajes relativamente bajo.\n",
    "\n",
    "**Barrios más populares:** La mayoría de los barrios tienen un promedio de viajes que cae en el rango de 0 a 500, lo que sugiere que estos barrios tienen una menor actividad de taxi en comparación con otros. Los rangos de promedio de viajes más altos tienen frecuencias significativamente más bajas, lo que indica que hay menos barrios con promedios de viajes más altos."
   ]
  },
  {
   "cell_type": "markdown",
   "metadata": {},
   "source": [
    "6. Finalmente, sacaremos conclusiones. Basándonos en los gráficos generados, interpretaremos los resultados y extraeremos conclusiones sobre los patrones y tendencias observados en los datos."
   ]
  },
  {
   "cell_type": "markdown",
   "metadata": {},
   "source": [
    "### Conclusiones\n",
    "\n",
    "**Gráfico de barras del número de viajes por compañía de taxis:**\n",
    "Flash Cab lidera con una considerable ventaja en términos del número de viajes, seguido por Taxi Affiliation Services y Medallion Leasing.\n",
    "\n",
    "Esta brecha indica una clara dominación de Flash Cab en el mercado de taxis local, con algunas compañías que tienen números de viajes mucho más altos que otras.\n",
    "\n",
    "**Gráfico de barras de los 10 principales barrios por promedio de viajes:**\n",
    "\n",
    "Los barrios \"Loop\" y \"River North\" tienen los promedios más altos de finalizaciones de viajes, lo que sugiere una alta demanda de servicios de taxi en esas áreas.\n",
    "\n",
    "Barrios como \"Sheffield & DePaul\" muestran una actividad de taxi más baja en comparación con otros barrios listados, con un promedio de viajes considerablemente más bajo.\n",
    "\n",
    "**Histograma del número de viajes por compañía de taxis:**\n",
    "\n",
    "La distribución del número de viajes por compañía de taxis está sesgada hacia la izquierda, lo que sugiere que la mayoría de las compañías de taxis tienen un número relativamente bajo de viajes.\n",
    "\n",
    "Hay una concentración de compañías de taxis con un número de viajes más bajo, mientras que solo unas pocas compañías tienen números de viajes significativamente más altos.\n",
    "\n",
    "\n",
    "**Histograma del promedio de viajes por barrio:**\n",
    "\n",
    "La mayoría de los barrios tienen un promedio de viajes relativamente bajo, concentrándose en el rango de 0 a 500 viajes.\n",
    "\n",
    "Los barrios con promedios de viajes más altos son menos comunes, indicando que hay una menor actividad de taxi en esos barrios en comparación con los de menor promedio de viajes.\n"
   ]
  },
  {
   "cell_type": "markdown",
   "metadata": {},
   "source": [
    "## Prueba de hipótesis"
   ]
  },
  {
   "cell_type": "markdown",
   "metadata": {},
   "source": [
    "1. Ahora plantearémos las hipótesis. \n",
    "\n",
    "**La hipótesis nula (H0)** será que la duración promedio de los viajes desde el Loop hasta el Aeropuerto Internacional O'Hare no cambia en los sábados lluviosos. \n",
    "\n",
    "**La hipótesis alternativa (H1)** será que la duración promedio de los viajes desde el Loop hasta el Aeropuerto Internacional O'Hare sí cambia en los sábados lluviosos."
   ]
  },
  {
   "cell_type": "code",
   "execution_count": 22,
   "metadata": {},
   "outputs": [
    {
     "data": {
      "text/html": [
       "<div>\n",
       "<style scoped>\n",
       "    .dataframe tbody tr th:only-of-type {\n",
       "        vertical-align: middle;\n",
       "    }\n",
       "\n",
       "    .dataframe tbody tr th {\n",
       "        vertical-align: top;\n",
       "    }\n",
       "\n",
       "    .dataframe thead th {\n",
       "        text-align: right;\n",
       "    }\n",
       "</style>\n",
       "<table border=\"1\" class=\"dataframe\">\n",
       "  <thead>\n",
       "    <tr style=\"text-align: right;\">\n",
       "      <th></th>\n",
       "      <th>start_ts</th>\n",
       "      <th>weather_conditions</th>\n",
       "      <th>duration_seconds</th>\n",
       "    </tr>\n",
       "  </thead>\n",
       "  <tbody>\n",
       "    <tr>\n",
       "      <th>0</th>\n",
       "      <td>2017-11-25 16:00:00</td>\n",
       "      <td>Good</td>\n",
       "      <td>2410.0</td>\n",
       "    </tr>\n",
       "    <tr>\n",
       "      <th>1</th>\n",
       "      <td>2017-11-25 14:00:00</td>\n",
       "      <td>Good</td>\n",
       "      <td>1920.0</td>\n",
       "    </tr>\n",
       "    <tr>\n",
       "      <th>2</th>\n",
       "      <td>2017-11-25 12:00:00</td>\n",
       "      <td>Good</td>\n",
       "      <td>1543.0</td>\n",
       "    </tr>\n",
       "    <tr>\n",
       "      <th>3</th>\n",
       "      <td>2017-11-04 10:00:00</td>\n",
       "      <td>Good</td>\n",
       "      <td>2512.0</td>\n",
       "    </tr>\n",
       "    <tr>\n",
       "      <th>4</th>\n",
       "      <td>2017-11-11 07:00:00</td>\n",
       "      <td>Good</td>\n",
       "      <td>1440.0</td>\n",
       "    </tr>\n",
       "    <tr>\n",
       "      <th>...</th>\n",
       "      <td>...</td>\n",
       "      <td>...</td>\n",
       "      <td>...</td>\n",
       "    </tr>\n",
       "    <tr>\n",
       "      <th>1060</th>\n",
       "      <td>2017-11-04 14:00:00</td>\n",
       "      <td>Good</td>\n",
       "      <td>2700.0</td>\n",
       "    </tr>\n",
       "    <tr>\n",
       "      <th>1061</th>\n",
       "      <td>2017-11-18 16:00:00</td>\n",
       "      <td>Bad</td>\n",
       "      <td>2186.0</td>\n",
       "    </tr>\n",
       "    <tr>\n",
       "      <th>1063</th>\n",
       "      <td>2017-11-25 11:00:00</td>\n",
       "      <td>Good</td>\n",
       "      <td>0.0</td>\n",
       "    </tr>\n",
       "    <tr>\n",
       "      <th>1064</th>\n",
       "      <td>2017-11-11 10:00:00</td>\n",
       "      <td>Good</td>\n",
       "      <td>1318.0</td>\n",
       "    </tr>\n",
       "    <tr>\n",
       "      <th>1067</th>\n",
       "      <td>2017-11-04 16:00:00</td>\n",
       "      <td>Bad</td>\n",
       "      <td>2834.0</td>\n",
       "    </tr>\n",
       "  </tbody>\n",
       "</table>\n",
       "<p>871 rows × 3 columns</p>\n",
       "</div>"
      ],
      "text/plain": [
       "                start_ts weather_conditions  duration_seconds\n",
       "0    2017-11-25 16:00:00               Good            2410.0\n",
       "1    2017-11-25 14:00:00               Good            1920.0\n",
       "2    2017-11-25 12:00:00               Good            1543.0\n",
       "3    2017-11-04 10:00:00               Good            2512.0\n",
       "4    2017-11-11 07:00:00               Good            1440.0\n",
       "...                  ...                ...               ...\n",
       "1060 2017-11-04 14:00:00               Good            2700.0\n",
       "1061 2017-11-18 16:00:00                Bad            2186.0\n",
       "1063 2017-11-25 11:00:00               Good               0.0\n",
       "1064 2017-11-11 10:00:00               Good            1318.0\n",
       "1067 2017-11-04 16:00:00                Bad            2834.0\n",
       "\n",
       "[871 rows x 3 columns]"
      ]
     },
     "execution_count": 22,
     "metadata": {},
     "output_type": "execute_result"
    }
   ],
   "source": [
    "#Mostrar el DataFrame\n",
    "loop_to_ohare_trips"
   ]
  },
  {
   "cell_type": "markdown",
   "metadata": {},
   "source": [
    "2. Ahora establecerémos el nivel de significación. Decidiremos un valor alfa para el nivel de significación, que es el umbral para rechazar la hipótesis nula. \n",
    "\n",
    "**Alfa = 0.05**"
   ]
  },
  {
   "cell_type": "markdown",
   "metadata": {},
   "source": [
    "3. Ahora probaremos las hipótesis. Utilizaremos técnicas estadísticas, como pruebas t, para comparar la duración promedio de los viajes en días lluviosos con la duración promedio en otros días de la semana. Primero, realizamos la prueba de Levene para verificar si las varianzas son iguales entre las muestras de días lluviosos y no lluviosos. Luego, calcularemos el valor p para determinar si hay evidencia suficiente para rechazar la hipótesis nula y concluir si la duración promedio de los viajes cambia significativamente en los sábados lluviosos en comparación con otros sábados."
   ]
  },
  {
   "cell_type": "code",
   "execution_count": 23,
   "metadata": {},
   "outputs": [
    {
     "name": "stdout",
     "output_type": "stream",
     "text": [
      "Estadístico de prueba de Levene: 0.000586951625283602\n",
      "Valor p de la prueba de Levene: 0.9806770360671218\n",
      "Las varianzas son iguales.\n"
     ]
    }
   ],
   "source": [
    "# Crear la columna 'weekday' que contiene el día de la semana \n",
    "loop_to_ohare_trips['weekday'] = loop_to_ohare_trips['start_ts'].dt.weekday\n",
    "\n",
    "# Filtrar los viajes en sábados lluviosos\n",
    "saturdays_rainy = loop_to_ohare_trips[(loop_to_ohare_trips['weekday'] == 5) & (loop_to_ohare_trips['weather_conditions'] == 'Bad')]\n",
    "\n",
    "# Filtrar los viajes en sábados no lluviosos\n",
    "saturdays_not_rainy = loop_to_ohare_trips[(loop_to_ohare_trips['weekday'] == 5) & (loop_to_ohare_trips['weather_conditions'] != 'Bad')]\n",
    "\n",
    "# Realizar la prueba de Levene para verificar si las varianzas son iguales\n",
    "statistic, p_value_levene = levene(saturdays_rainy['duration_seconds'], saturdays_not_rainy['duration_seconds'])\n",
    "\n",
    "# Imprimir el resultado de la prueba de Levene\n",
    "print(\"Estadístico de prueba de Levene:\", statistic)\n",
    "print(\"Valor p de la prueba de Levene:\", p_value_levene)\n",
    "\n",
    "# Interpretar el resultado de la prueba de Levene\n",
    "if p_value_levene < 0.05:\n",
    "    print(\"Las varianzas son diferentes.\")\n",
    "    equal_var = False\n",
    "else:\n",
    "    print(\"Las varianzas son iguales.\")\n",
    "    equal_var = True"
   ]
  },
  {
   "cell_type": "code",
   "execution_count": 24,
   "metadata": {},
   "outputs": [
    {
     "name": "stdout",
     "output_type": "stream",
     "text": [
      "Estadístico t: 5.427957689754561\n",
      "Valor p: 7.397770692813658e-08\n",
      "Rechazamos la hipótesis nula: hay evidencia suficiente para concluir que la duración promedio de los viajes sí cambia en los sábados lluviosos.\n"
     ]
    }
   ],
   "source": [
    "# Realizar la prueba t de Student para comparar las duraciones de los viajes en sábados lluviosos y otros días\n",
    "t_statistic, p_value = ttest_ind(saturdays_rainy['duration_seconds'], saturdays_not_rainy['duration_seconds'], equal_var=True)\n",
    "\n",
    "# Imprimir el resultado de la prueba\n",
    "print(\"Estadístico t:\", t_statistic)\n",
    "print(\"Valor p:\", p_value)\n",
    "\n",
    "# Comparar el valor p con el nivel de significancia (alpha)\n",
    "alpha = 0.05\n",
    "if p_value < alpha:\n",
    "    print(\"Rechazamos la hipótesis nula: hay evidencia suficiente para concluir que la duración promedio de los viajes sí cambia en los sábados lluviosos.\")\n",
    "else:\n",
    "    print(\"No podemos rechazar la hipótesis nula: no hay suficiente evidencia para concluir que la duración promedio de los viajes cambia en los sábados lluviosos.\")"
   ]
  },
  {
   "cell_type": "markdown",
   "metadata": {},
   "source": [
    "4. Finalmente, explicaremos los resultados. Interpretaremos los resultados de la prueba de hipótesis, explicando si hay evidencia suficiente para rechazar la hipótesis nula y qué implicaciones tienen estos resultados en relación con la duración de los viajes desde el Loop hasta el Aeropuerto Internacional O'Hare en días lluviosos."
   ]
  },
  {
   "cell_type": "markdown",
   "metadata": {},
   "source": [
    "Con un valor p muy bajo de 7.397770692813604e-08, casi cero, hay evidencia suficiente para rechazar la hipótesis nula. Esto indica que, en días lluviosos, la duración promedio de los viajes desde el Loop hasta el Aeropuerto Internacional O'Hare realmente varía.\n",
    "\n",
    "Esto tiene implicaciones significativas, especialmente para el sector del transporte en Chicago. Si las condiciones climáticas afectan la duración de los viajes, es crucial ajustar la planificación y asignación de recursos en consecuencia. Podríamos necesitar más vehículos disponibles o considerar reorganizar las rutas para optimizar el tiempo de viaje en días lluviosos. Esta información es valiosa para mejorar la eficiencia y la satisfacción del cliente en el servicio de taxis."
   ]
  },
  {
   "cell_type": "markdown",
   "metadata": {},
   "source": [
    "## Conclusiones generales"
   ]
  },
  {
   "cell_type": "markdown",
   "metadata": {},
   "source": [
    "En resumen, este proyecto de análisis de datos sobre el comportamiento de los servicios de taxi en Chicago revela importantes hallazgos:\n",
    "\n",
    "1. Se identificó que Flash Cab lidera el mercado de taxis local, seguido por Taxi Affiliation Services y Medallion Leasing, lo que sugiere una clara dominación de Flash Cab.\n",
    "\n",
    "2. Los barrios \"Loop\" y \"River North\" tienen una alta demanda de servicios de taxi, mientras que barrios como \"Sheffield & DePaul\" muestran una actividad más baja.\n",
    "\n",
    "3. La distribución del número de viajes por compañía de taxis está sesgada hacia la izquierda, lo que indica que la mayoría de las compañías tienen un número relativamente bajo de viajes.\n",
    "\n",
    "4. En cuanto a la duración promedio de los viajes desde el Loop hasta el Aeropuerto Internacional O'Hare en días lluviosos, la prueba de hipótesis reveló que hay una variación significativa. Esto sugiere que las condiciones climáticas tienen un impacto en la duración de los viajes, lo que podría requerir ajustes en la planificación y asignación de recursos en el sector del transporte en Chicago.\n",
    "\n",
    "Estos hallazgos proporcionan información valiosa para la toma de decisiones en el sector del transporte en Chicago, lo que podría mejorar la eficiencia y la satisfacción del cliente en el servicio de taxis."
   ]
  }
 ],
 "metadata": {
  "kernelspec": {
   "display_name": "Python 3 (ipykernel)",
   "language": "python",
   "name": "python3"
  },
  "language_info": {
   "codemirror_mode": {
    "name": "ipython",
    "version": 3
   },
   "file_extension": ".py",
   "mimetype": "text/x-python",
   "name": "python",
   "nbconvert_exporter": "python",
   "pygments_lexer": "ipython3",
   "version": "3.11.5"
  },
  "toc": {
   "base_numbering": 1,
   "nav_menu": {},
   "number_sections": true,
   "sideBar": true,
   "skip_h1_title": true,
   "title_cell": "Table of Contents",
   "title_sidebar": "Contents",
   "toc_cell": false,
   "toc_position": {
    "height": "440px",
    "left": "80px",
    "top": "110.547px",
    "width": "320px"
   },
   "toc_section_display": true,
   "toc_window_display": true
  }
 },
 "nbformat": 4,
 "nbformat_minor": 2
}
